{
 "cells": [
  {
   "cell_type": "markdown",
   "id": "b665ff5d-3bc7-4541-8b5f-b96c08ecd21a",
   "metadata": {},
   "source": [
    "## Uploading Data + Normalization"
   ]
  },
  {
   "cell_type": "code",
   "execution_count": 123,
   "id": "1f069b3d-6f5e-4d39-813e-efaf4654f39e",
   "metadata": {},
   "outputs": [],
   "source": [
    "#uploading\n",
    "with open(\"key_timings.log\", \"r\") as f:\n",
    "    tmng = []\n",
    "    for _ in f:\n",
    "        if _.strip():             \n",
    "            tmng.append(float(_.strip())) \n"
   ]
  },
  {
   "cell_type": "code",
   "execution_count": 124,
   "id": "210a55e9-60ca-4539-8a10-b498bcb7d770",
   "metadata": {},
   "outputs": [],
   "source": [
    "#extracting last digs\n",
    "last_digits = []\n",
    "for t in tmng:\n",
    "    fr_str = str(t).split(\".\")[1]  \n",
    "    dig = fr_str[-4:]  \n",
    "\n",
    "    last_digits.append(int(dig))\n"
   ]
  },
  {
   "cell_type": "code",
   "execution_count": 125,
   "id": "d6bd1182-5788-48f0-a593-4f20d42016da",
   "metadata": {},
   "outputs": [],
   "source": [
    "fl = [d / 9999 for d in last_digits]  \n"
   ]
  },
  {
   "cell_type": "markdown",
   "id": "20c54393-e7da-45b6-9c15-96225b57348b",
   "metadata": {},
   "source": [
    "## Graph"
   ]
  },
  {
   "cell_type": "code",
   "execution_count": 126,
   "id": "b9cca8af-7c0b-4820-9840-3b5ac05cc9e6",
   "metadata": {},
   "outputs": [
    {
     "data": {
      "image/png": "[encoded data removed]",
      "text/plain": [
       "<Figure size 640x480 with 1 Axes>"
      ]
     },
     "metadata": {},
     "output_type": "display_data"
    }
   ],
   "source": [
    "import matplotlib.pyplot as plt\n",
    "\n",
    "plt.hist(fl, bins= 50, color='green', edgecolor='black')\n",
    "plt.xlabel(\"Float value (0–1)\")\n",
    "plt.ylabel(\"Frequency\")\n",
    "plt.title(\"Entropy Harvested: distributions\")\n",
    "plt.show()\n"
   ]
  },
  {
   "cell_type": "markdown",
   "id": "6d6d5865-be86-402f-ab1d-d1bb88f7265b",
   "metadata": {},
   "source": [
    "## Quantum Entanglement Experiment"
   ]
  },
  {
   "cell_type": "code",
   "execution_count": 127,
   "id": "d7265fc1-3118-436d-92db-2bc4cd252864",
   "metadata": {},
   "outputs": [],
   "source": [
    "with open(\"keystroke_floats.txt\", \"w\") as f:\n",
    "    for val in fl:\n",
    "        f.write(f\"{val}\\n\")\n"
   ]
  },
  {
   "cell_type": "code",
   "execution_count": 128,
   "id": "43fa1104-e452-488d-a9d3-ea4b66eb7c22",
   "metadata": {},
   "outputs": [
    {
     "name": "stdout",
     "output_type": "stream",
     "text": [
      "Expected match: 50.00%\n",
      "Run 1: 50.30% match\n",
      "Run 2: 51.90% match\n",
      "Run 3: 46.80% match\n",
      "Run 4: 50.00% match\n",
      "Run 5: 51.00% match\n",
      "Run 6: 49.70% match\n",
      "Run 7: 50.80% match\n",
      "Run 8: 47.70% match\n",
      "Run 9: 48.50% match\n",
      "Run 10: 51.80% match\n",
      "Avg: 49.85%\n"
     ]
    }
   ],
   "source": [
    "import math, random\n",
    "\n",
    "g = 0\n",
    "\n",
    "# load normalized floats from file\n",
    "with open(\"keystroke_floats.txt\") as f:\n",
    "    fl = [float(line.strip()) for line in f if line.strip()]\n",
    "\n",
    "#angles mimicry detectors == the axis it is measured v/s the real axis it collapses (usually taken z-axis)\n",
    "a_ang = 0\n",
    "b_ang = 90\n",
    "diff = math.radians(a_ang - b_ang)\n",
    "exp = math.cos(diff / 2) ** 2\n",
    "print(f\"Expected match: {exp * 100:.2f}%\")\n",
    "\n",
    "n = 1000\n",
    "\n",
    "for i in range(1, 11):\n",
    "    m = 0 #how many matches?\n",
    "\n",
    "    for _ in range(n):\n",
    "        if len(fl) < 2:\n",
    "            print(\"Entropy insufficient.\")\n",
    "            break\n",
    "\n",
    "        x, y = random.sample(fl, 2) #sry for using random here but uk, does it count? The novelty was that the data is random. \n",
    "\n",
    "        if x < exp:                 #so random is for the sake of generating dynamic output every run. \n",
    "                                    #Otherwise, you use up all the rand in a seq, so same path = same output\n",
    "            a = b = 0 if y < 0.5 else 1\n",
    "        else:\n",
    "            a, b = (0, 1) if y < 0.5 else (1, 0)\n",
    "\n",
    "        if a == b:\n",
    "            m += 1\n",
    "\n",
    "    pct = (m / n) * 100\n",
    "    print(f\"Run {i}: {pct:.2f}% match\")\n",
    "    g += pct\n",
    "\n",
    "print(f\"Avg: {g / 10:.2f}%\")\n"
   ]
  }
 ],
 "metadata": {
  "kernelspec": {
   "display_name": "Python 3 (ipykernel)",
   "language": "python",
   "name": "python3"
  },
  "language_info": {
   "codemirror_mode": {
    "name": "ipython",
    "version": 3
   },
   "file_extension": ".py",
   "mimetype": "text/x-python",
   "name": "python",
   "nbconvert_exporter": "python",
   "pygments_lexer": "ipython3",
   "version": "3.13.2"
  }
 },
 "nbformat": 4,
 "nbformat_minor": 5
}
